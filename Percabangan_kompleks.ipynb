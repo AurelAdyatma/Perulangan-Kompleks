{
  "nbformat": 4,
  "nbformat_minor": 0,
  "metadata": {
    "colab": {
      "provenance": []
    },
    "kernelspec": {
      "name": "python3",
      "display_name": "Python 3"
    },
    "language_info": {
      "name": "python"
    }
  },
  "cells": [
    {
      "cell_type": "code",
      "execution_count": null,
      "metadata": {
        "colab": {
          "base_uri": "https://localhost:8080/"
        },
        "id": "b9CMbAPfovCK",
        "outputId": "af799dae-55fc-4c77-dbcb-960c638d673f"
      },
      "outputs": [
        {
          "output_type": "stream",
          "name": "stdout",
          "text": [
            "Masukkan BilPrim :12\n",
            "11\n"
          ]
        }
      ],
      "source": [
        "bil_prim_terdekat = int(input(\"Masukkan BilPrim :\"))\n",
        "\n",
        "def ganjil_prima(bil_prim_terdekat):\n",
        "    for i in range(bil_prim_terdekat-1, 2, -1):\n",
        "        j = 2\n",
        "        while i >= j:\n",
        "            if i == j:\n",
        "                return i\n",
        "            else:\n",
        "                if i % j == 0:\n",
        "                    break\n",
        "                else:\n",
        "                    j += 1\n",
        "                    continue\n",
        "\n",
        "print(ganjil_prima(bil_prim_terdekat))\n"
      ]
    },
    {
      "cell_type": "code",
      "source": [
        "def deret_program(n):\n",
        "    for i in range(n, 0, -1):\n",
        "        faktorial = 1\n",
        "        for j in range(1, i + 1):\n",
        "            faktorial *= j\n",
        "\n",
        "        print(faktorial, end=' ')\n",
        "        for j in range(i, 0, -1):\n",
        "            print(j, end=' ')\n",
        "        print()\n",
        "\n",
        "n = int(input(\"Masukkan n brok : \"))\n",
        "deret_program(n)"
      ],
      "metadata": {
        "colab": {
          "base_uri": "https://localhost:8080/"
        },
        "id": "kU-k8JtTE7EE",
        "outputId": "a9c83cfe-23c5-4388-886c-5600c809346b"
      },
      "execution_count": 2,
      "outputs": [
        {
          "output_type": "stream",
          "name": "stdout",
          "text": [
            "Masukkan n brok : 6\n",
            "720 6 5 4 3 2 1 \n",
            "120 5 4 3 2 1 \n",
            "24 4 3 2 1 \n",
            "6 3 2 1 \n",
            "2 2 1 \n",
            "1 1 \n"
          ]
        }
      ]
    },
    {
      "cell_type": "code",
      "source": [
        "tinggi = int(input(\"Masukkan tingginya: \"))\n",
        "lebar = int(input(\"Masukkan lebarnya: \"))\n",
        "\n",
        "angka = 1\n",
        "\n",
        "for i in range(tinggi):\n",
        "    for j in range(lebar):\n",
        "        print(angka, end=\" \")\n",
        "        angka += 1\n",
        "    print()"
      ],
      "metadata": {
        "colab": {
          "base_uri": "https://localhost:8080/"
        },
        "id": "oMOwOwoCeVLu",
        "outputId": "5a3fa39a-1ab2-4234-8210-12ced997f4c0"
      },
      "execution_count": null,
      "outputs": [
        {
          "output_type": "stream",
          "name": "stdout",
          "text": [
            "Masukkan tingginya: 5\n",
            "Masukkan lebarnya: 4\n",
            "1 2 3 4 \n",
            "5 6 7 8 \n",
            "9 10 11 12 \n",
            "13 14 15 16 \n",
            "17 18 19 20 \n"
          ]
        }
      ]
    }
  ]
}